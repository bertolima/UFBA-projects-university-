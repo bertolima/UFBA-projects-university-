{
 "cells": [
  {
   "cell_type": "code",
   "execution_count": 1,
   "id": "8aa1cda2",
   "metadata": {},
   "outputs": [],
   "source": [
    "#Ordenação Linear EDA"
   ]
  },
  {
   "cell_type": "code",
   "execution_count": null,
   "id": "88dea415",
   "metadata": {},
   "outputs": [],
   "source": [
    "class Dados:\n",
    "    def __init__(self, n, mini, maxi):#recebe o tamanho e maior e menor valores\n",
    "        self.valores = []\n",
    "        self.n = n\n",
    "        self.mini = mini\n",
    "        self.maxi = maxi\n",
    "\n",
    "    def gerador(self): #gera os valores a serem ordenados\n",
    "        for i in range(self.n):\n",
    "            value = random.uniform(self.mini, self.maxi)\n",
    "            self.valores.append(value)\n",
    "\n",
    "    def imprimir(self):# método de impressão do conjunto \n",
    "        for value in self.valores:\n",
    "            print(value, end=\" \")\n",
    "        print()\n",
    "        \n",
    "class RadixSort: #classe para realizar a operação com o algoritmo Radix\n",
    "    def __init__(self, conjunto):\n",
    "        self.conjunto = conjunto\n",
    "\n",
    "    def ordenar(self):\n",
    "        # Encontra o valor máximo do conjunto para definir o número de passagens total\n",
    "        max_value = max(self.conjunto.valores)\n",
    "        # Realiza uma contagem para cada dígito em cada passagem\n",
    "        exp = 1\n",
    "        while max_value // exp > 0:\n",
    "            count = [0] * 10\n",
    "            for value in self.conjunto.valores:\n",
    "                index = (valor // exp) % 10\n",
    "                count[index] += 1\n",
    "            # Atualiza as contagens indicando a posição final de cada dígito\n",
    "            for i in range(1, 10):\n",
    "                count[i] += count[i-1]\n",
    "            #  novo conjunto é criado, agora ordenado usando as contagens atualizadas\n",
    "            sorted_array = [0] * self.conjunto.n\n",
    "            for i in range(self.conjunto.n-1, -1, -1):\n",
    "                value = self.conjunto.valores[i]\n",
    "                index = (value // exp) % 10\n",
    "                count[index] -= 1\n",
    "                sorted_array[count[index]] = val\n",
    "            # Atualização do conjunto original com o novo conjunto ordenado\n",
    "            self.conjunto.valores = sorted_array\n",
    "            # Incrementa a posição do dígito para a próxima passagem\n",
    "            exp *= 10\n",
    "#código submeter as entradas\n",
    "import random\n",
    "\n",
    "n = int(input())\n",
    "mini = float(input(\" valor mínimo: \"))\n",
    "maxi = float(input(\" valor máximo: \"))\n",
    "\n",
    "conjunto = Dados(n, mini, maxi)\n",
    "conjunto.gerador()\n",
    "\n",
    "\n",
    "conjunto.imprimir()\n",
    "\n",
    "radix_sort = RadixSort(conjunto)\n",
    "radix_sort.ordenar()\n",
    "\n",
    "\n",
    "conjunto.imprimir()\n",
    "\n"
   ]
  },
  {
   "cell_type": "code",
   "execution_count": null,
   "id": "dd71026b",
   "metadata": {},
   "outputs": [],
   "source": []
  },
  {
   "cell_type": "code",
   "execution_count": null,
   "id": "accd1018",
   "metadata": {},
   "outputs": [],
   "source": []
  }
 ],
 "metadata": {
  "kernelspec": {
   "display_name": "Python 3 (ipykernel)",
   "language": "python",
   "name": "python3"
  },
  "language_info": {
   "codemirror_mode": {
    "name": "ipython",
    "version": 3
   },
   "file_extension": ".py",
   "mimetype": "text/x-python",
   "name": "python",
   "nbconvert_exporter": "python",
   "pygments_lexer": "ipython3",
   "version": "3.9.7"
  }
 },
 "nbformat": 4,
 "nbformat_minor": 5
}
